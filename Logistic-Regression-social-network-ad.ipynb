{
 "cells": [
  {
   "cell_type": "markdown",
   "metadata": {},
   "source": [
    "### Import Libraries"
   ]
  },
  {
   "cell_type": "code",
   "execution_count": 1,
   "metadata": {},
   "outputs": [],
   "source": [
    "import numpy as np\n",
    "import matplotlib.pyplot as plt\n",
    "import pandas as pd"
   ]
  },
  {
   "cell_type": "markdown",
   "metadata": {},
   "source": [
    "### Import Dataset"
   ]
  },
  {
   "cell_type": "code",
   "execution_count": 2,
   "metadata": {},
   "outputs": [],
   "source": [
    "df = pd.read_csv('Social_Network_Ads.csv')"
   ]
  },
  {
   "cell_type": "markdown",
   "metadata": {},
   "source": [
    "### View First Few Samples"
   ]
  },
  {
   "cell_type": "code",
   "execution_count": 3,
   "metadata": {},
   "outputs": [
    {
     "data": {
      "text/html": [
       "<div>\n",
       "<style scoped>\n",
       "    .dataframe tbody tr th:only-of-type {\n",
       "        vertical-align: middle;\n",
       "    }\n",
       "\n",
       "    .dataframe tbody tr th {\n",
       "        vertical-align: top;\n",
       "    }\n",
       "\n",
       "    .dataframe thead th {\n",
       "        text-align: right;\n",
       "    }\n",
       "</style>\n",
       "<table border=\"1\" class=\"dataframe\">\n",
       "  <thead>\n",
       "    <tr style=\"text-align: right;\">\n",
       "      <th></th>\n",
       "      <th>User ID</th>\n",
       "      <th>Gender</th>\n",
       "      <th>Age</th>\n",
       "      <th>EstimatedSalary</th>\n",
       "      <th>Purchased</th>\n",
       "    </tr>\n",
       "  </thead>\n",
       "  <tbody>\n",
       "    <tr>\n",
       "      <th>0</th>\n",
       "      <td>15624510</td>\n",
       "      <td>Male</td>\n",
       "      <td>19</td>\n",
       "      <td>19000</td>\n",
       "      <td>0</td>\n",
       "    </tr>\n",
       "    <tr>\n",
       "      <th>1</th>\n",
       "      <td>15810944</td>\n",
       "      <td>Male</td>\n",
       "      <td>35</td>\n",
       "      <td>20000</td>\n",
       "      <td>0</td>\n",
       "    </tr>\n",
       "    <tr>\n",
       "      <th>2</th>\n",
       "      <td>15668575</td>\n",
       "      <td>Female</td>\n",
       "      <td>26</td>\n",
       "      <td>43000</td>\n",
       "      <td>0</td>\n",
       "    </tr>\n",
       "    <tr>\n",
       "      <th>3</th>\n",
       "      <td>15603246</td>\n",
       "      <td>Female</td>\n",
       "      <td>27</td>\n",
       "      <td>57000</td>\n",
       "      <td>0</td>\n",
       "    </tr>\n",
       "    <tr>\n",
       "      <th>4</th>\n",
       "      <td>15804002</td>\n",
       "      <td>Male</td>\n",
       "      <td>19</td>\n",
       "      <td>76000</td>\n",
       "      <td>0</td>\n",
       "    </tr>\n",
       "  </tbody>\n",
       "</table>\n",
       "</div>"
      ],
      "text/plain": [
       "    User ID  Gender  Age  EstimatedSalary  Purchased\n",
       "0  15624510    Male   19            19000          0\n",
       "1  15810944    Male   35            20000          0\n",
       "2  15668575  Female   26            43000          0\n",
       "3  15603246  Female   27            57000          0\n",
       "4  15804002    Male   19            76000          0"
      ]
     },
     "execution_count": 3,
     "metadata": {},
     "output_type": "execute_result"
    }
   ],
   "source": [
    "df.head()"
   ]
  },
  {
   "cell_type": "markdown",
   "metadata": {},
   "source": [
    "### No. of Rows and Columns"
   ]
  },
  {
   "cell_type": "code",
   "execution_count": 4,
   "metadata": {},
   "outputs": [
    {
     "name": "stdout",
     "output_type": "stream",
     "text": [
      "<class 'pandas.core.frame.DataFrame'>\n",
      "RangeIndex: 400 entries, 0 to 399\n",
      "Data columns (total 5 columns):\n",
      "User ID            400 non-null int64\n",
      "Gender             400 non-null object\n",
      "Age                400 non-null int64\n",
      "EstimatedSalary    400 non-null int64\n",
      "Purchased          400 non-null int64\n",
      "dtypes: int64(4), object(1)\n",
      "memory usage: 15.7+ KB\n"
     ]
    }
   ],
   "source": [
    "df.info()"
   ]
  },
  {
   "cell_type": "markdown",
   "metadata": {},
   "source": [
    "### Statistical Information"
   ]
  },
  {
   "cell_type": "code",
   "execution_count": 5,
   "metadata": {},
   "outputs": [
    {
     "data": {
      "text/html": [
       "<div>\n",
       "<style scoped>\n",
       "    .dataframe tbody tr th:only-of-type {\n",
       "        vertical-align: middle;\n",
       "    }\n",
       "\n",
       "    .dataframe tbody tr th {\n",
       "        vertical-align: top;\n",
       "    }\n",
       "\n",
       "    .dataframe thead th {\n",
       "        text-align: right;\n",
       "    }\n",
       "</style>\n",
       "<table border=\"1\" class=\"dataframe\">\n",
       "  <thead>\n",
       "    <tr style=\"text-align: right;\">\n",
       "      <th></th>\n",
       "      <th>User ID</th>\n",
       "      <th>Age</th>\n",
       "      <th>EstimatedSalary</th>\n",
       "      <th>Purchased</th>\n",
       "    </tr>\n",
       "  </thead>\n",
       "  <tbody>\n",
       "    <tr>\n",
       "      <th>count</th>\n",
       "      <td>4.000000e+02</td>\n",
       "      <td>400.000000</td>\n",
       "      <td>400.000000</td>\n",
       "      <td>400.000000</td>\n",
       "    </tr>\n",
       "    <tr>\n",
       "      <th>mean</th>\n",
       "      <td>1.569154e+07</td>\n",
       "      <td>37.655000</td>\n",
       "      <td>69742.500000</td>\n",
       "      <td>0.357500</td>\n",
       "    </tr>\n",
       "    <tr>\n",
       "      <th>std</th>\n",
       "      <td>7.165832e+04</td>\n",
       "      <td>10.482877</td>\n",
       "      <td>34096.960282</td>\n",
       "      <td>0.479864</td>\n",
       "    </tr>\n",
       "    <tr>\n",
       "      <th>min</th>\n",
       "      <td>1.556669e+07</td>\n",
       "      <td>18.000000</td>\n",
       "      <td>15000.000000</td>\n",
       "      <td>0.000000</td>\n",
       "    </tr>\n",
       "    <tr>\n",
       "      <th>25%</th>\n",
       "      <td>1.562676e+07</td>\n",
       "      <td>29.750000</td>\n",
       "      <td>43000.000000</td>\n",
       "      <td>0.000000</td>\n",
       "    </tr>\n",
       "    <tr>\n",
       "      <th>50%</th>\n",
       "      <td>1.569434e+07</td>\n",
       "      <td>37.000000</td>\n",
       "      <td>70000.000000</td>\n",
       "      <td>0.000000</td>\n",
       "    </tr>\n",
       "    <tr>\n",
       "      <th>75%</th>\n",
       "      <td>1.575036e+07</td>\n",
       "      <td>46.000000</td>\n",
       "      <td>88000.000000</td>\n",
       "      <td>1.000000</td>\n",
       "    </tr>\n",
       "    <tr>\n",
       "      <th>max</th>\n",
       "      <td>1.581524e+07</td>\n",
       "      <td>60.000000</td>\n",
       "      <td>150000.000000</td>\n",
       "      <td>1.000000</td>\n",
       "    </tr>\n",
       "  </tbody>\n",
       "</table>\n",
       "</div>"
      ],
      "text/plain": [
       "            User ID         Age  EstimatedSalary   Purchased\n",
       "count  4.000000e+02  400.000000       400.000000  400.000000\n",
       "mean   1.569154e+07   37.655000     69742.500000    0.357500\n",
       "std    7.165832e+04   10.482877     34096.960282    0.479864\n",
       "min    1.556669e+07   18.000000     15000.000000    0.000000\n",
       "25%    1.562676e+07   29.750000     43000.000000    0.000000\n",
       "50%    1.569434e+07   37.000000     70000.000000    0.000000\n",
       "75%    1.575036e+07   46.000000     88000.000000    1.000000\n",
       "max    1.581524e+07   60.000000    150000.000000    1.000000"
      ]
     },
     "execution_count": 5,
     "metadata": {},
     "output_type": "execute_result"
    }
   ],
   "source": [
    "df.describe()"
   ]
  },
  {
   "cell_type": "markdown",
   "metadata": {},
   "source": [
    "Count gives the information on missing values"
   ]
  },
  {
   "cell_type": "code",
   "execution_count": 6,
   "metadata": {},
   "outputs": [
    {
     "data": {
      "text/plain": [
       "Index(['User ID', 'Gender', 'Age', 'EstimatedSalary', 'Purchased'], dtype='object')"
      ]
     },
     "execution_count": 6,
     "metadata": {},
     "output_type": "execute_result"
    }
   ],
   "source": [
    "df.columns"
   ]
  },
  {
   "cell_type": "markdown",
   "metadata": {},
   "source": [
    "#### Choosing Predictor and Target Variable"
   ]
  },
  {
   "cell_type": "markdown",
   "metadata": {},
   "source": [
    "x = df[['Age', 'EstimatedSalary']] # x Predictor Variable"
   ]
  },
  {
   "cell_type": "code",
   "execution_count": 7,
   "metadata": {},
   "outputs": [],
   "source": [
    "x =df['Age']"
   ]
  },
  {
   "cell_type": "code",
   "execution_count": 8,
   "metadata": {},
   "outputs": [],
   "source": [
    "y = df['Purchased'] # y Target Variable"
   ]
  },
  {
   "cell_type": "markdown",
   "metadata": {},
   "source": [
    "### Split dataset into train and test set"
   ]
  },
  {
   "cell_type": "code",
   "execution_count": 9,
   "metadata": {},
   "outputs": [],
   "source": [
    "from sklearn.model_selection import train_test_split"
   ]
  },
  {
   "cell_type": "code",
   "execution_count": 10,
   "metadata": {},
   "outputs": [],
   "source": [
    "x_train, x_test, y_train, y_test = train_test_split(x, y, test_size=0.25, random_state=0)\n"
   ]
  },
  {
   "cell_type": "markdown",
   "metadata": {},
   "source": [
    "### Feature scaling"
   ]
  },
  {
   "cell_type": "code",
   "execution_count": 11,
   "metadata": {},
   "outputs": [],
   "source": [
    "from sklearn.preprocessing import StandardScaler # from preprocessing library import standardscaler class"
   ]
  },
  {
   "cell_type": "code",
   "execution_count": 12,
   "metadata": {},
   "outputs": [],
   "source": [
    "fs_x = StandardScaler() # create an object for the class standardscaler fs_x"
   ]
  },
  {
   "cell_type": "code",
   "execution_count": 13,
   "metadata": {},
   "outputs": [
    {
     "name": "stderr",
     "output_type": "stream",
     "text": [
      "C:\\Users\\Dell\\Anaconda3\\lib\\site-packages\\sklearn\\utils\\validation.py:475: DataConversionWarning: Data with input dtype int64 was converted to float64 by StandardScaler.\n",
      "  warnings.warn(msg, DataConversionWarning)\n"
     ]
    }
   ],
   "source": [
    "x_train = fs_x.fit_transform(x_train.values.reshape(-1,1))"
   ]
  },
  {
   "cell_type": "code",
   "execution_count": 14,
   "metadata": {},
   "outputs": [
    {
     "name": "stderr",
     "output_type": "stream",
     "text": [
      "C:\\Users\\Dell\\Anaconda3\\lib\\site-packages\\sklearn\\utils\\validation.py:475: DataConversionWarning: Data with input dtype int64 was converted to float64 by StandardScaler.\n",
      "  warnings.warn(msg, DataConversionWarning)\n"
     ]
    }
   ],
   "source": [
    "x_test = fs_x.transform(x_test.values.reshape(-1,1))"
   ]
  },
  {
   "cell_type": "markdown",
   "metadata": {},
   "source": [
    "Feature scaling not needed for target variable since it is logistic regression"
   ]
  },
  {
   "cell_type": "markdown",
   "metadata": {},
   "source": [
    "### fit or train model"
   ]
  },
  {
   "cell_type": "code",
   "execution_count": 15,
   "metadata": {},
   "outputs": [],
   "source": [
    "from sklearn.linear_model import LogisticRegression"
   ]
  },
  {
   "cell_type": "code",
   "execution_count": 16,
   "metadata": {},
   "outputs": [],
   "source": [
    "classifier = LogisticRegression(random_state = 0)#creating an object classifier"
   ]
  },
  {
   "cell_type": "code",
   "execution_count": 17,
   "metadata": {},
   "outputs": [
    {
     "data": {
      "text/plain": [
       "LogisticRegression(C=1.0, class_weight=None, dual=False, fit_intercept=True,\n",
       "          intercept_scaling=1, max_iter=100, multi_class='ovr', n_jobs=1,\n",
       "          penalty='l2', random_state=0, solver='liblinear', tol=0.0001,\n",
       "          verbose=0, warm_start=False)"
      ]
     },
     "execution_count": 17,
     "metadata": {},
     "output_type": "execute_result"
    }
   ],
   "source": [
    "classifier.fit(x_train, y_train)"
   ]
  },
  {
   "cell_type": "code",
   "execution_count": 18,
   "metadata": {},
   "outputs": [
    {
     "data": {
      "text/plain": [
       "0.82"
      ]
     },
     "execution_count": 18,
     "metadata": {},
     "output_type": "execute_result"
    }
   ],
   "source": [
    "classifier.score(x_train, y_train)"
   ]
  },
  {
   "cell_type": "markdown",
   "metadata": {},
   "source": [
    "### Predict"
   ]
  },
  {
   "cell_type": "code",
   "execution_count": 40,
   "metadata": {},
   "outputs": [],
   "source": [
    "y_pred = classifier.predict(x_train)"
   ]
  },
  {
   "cell_type": "code",
   "execution_count": 41,
   "metadata": {},
   "outputs": [
    {
     "data": {
      "text/plain": [
       "array([1, 0, 0, 0, 1, 1, 0, 0, 0, 0, 0, 0, 0, 1, 1, 1, 1, 0, 1, 1, 0, 1,\n",
       "       0, 0, 0, 0, 1, 1, 0, 0, 0, 1, 0, 0, 1, 0, 0, 0, 0, 1, 0, 0, 0, 0,\n",
       "       0, 0, 0, 1, 1, 0, 0, 0, 0, 0, 1, 0, 1, 0, 0, 1, 0, 0, 0, 0, 0, 0,\n",
       "       0, 0, 0, 0, 0, 0, 0, 1, 0, 1, 0, 0, 1, 1, 0, 0, 0, 1, 0, 1, 0, 0,\n",
       "       1, 1, 0, 0, 0, 1, 0, 0, 1, 1, 1, 0, 0, 0, 1, 1, 1, 1, 1, 0, 1, 1,\n",
       "       0, 1, 0, 0, 0, 0, 0, 0, 0, 1, 1, 0, 0, 1, 1, 0, 0, 0, 0, 0, 1, 0,\n",
       "       1, 1, 0, 0, 0, 0, 0, 0, 1, 0, 1, 0, 0, 1, 0, 0, 0, 0, 1, 0, 0, 0,\n",
       "       0, 1, 0, 0, 0, 0, 0, 0, 1, 0, 1, 0, 0, 0, 0, 0, 1, 1, 1, 0, 1, 0,\n",
       "       1, 0, 1, 0, 0, 0, 1, 0, 0, 1, 0, 1, 0, 1, 1, 0, 0, 0, 0, 0, 0, 1,\n",
       "       0, 0, 1, 0, 0, 0, 0, 0, 0, 1, 0, 0, 0, 0, 0, 0, 1, 1, 1, 0, 0, 0,\n",
       "       0, 0, 0, 1, 1, 0, 0, 0, 0, 1, 0, 0, 0, 0, 1, 0, 1, 0, 1, 0, 0, 0,\n",
       "       0, 0, 0, 0, 1, 0, 0, 0, 0, 0, 0, 0, 0, 0, 0, 0, 0, 0, 0, 1, 0, 0,\n",
       "       1, 0, 0, 0, 0, 0, 1, 0, 0, 0, 0, 1, 0, 0, 1, 0, 1, 0, 0, 0, 0, 0,\n",
       "       0, 1, 1, 1, 1, 0, 0, 0, 0, 1, 0, 0, 0, 0], dtype=int64)"
      ]
     },
     "execution_count": 41,
     "metadata": {},
     "output_type": "execute_result"
    }
   ],
   "source": [
    "y_pred"
   ]
  },
  {
   "cell_type": "code",
   "execution_count": 66,
   "metadata": {},
   "outputs": [
    {
     "name": "stdout",
     "output_type": "stream",
     "text": [
      "300 300 300\n",
      "[0.58164944] [1.78898682] 0 1\n",
      "[-0.60673761] [0.54512639] 1 0\n",
      "[-0.01254409] [0.98753426] 0 0\n",
      "[-0.60673761] [0.54512639] 1 0\n",
      "[1.37390747] [3.95075803] 1 1\n",
      "[1.47293972] [4.36203949] 1 1\n",
      "[0.08648817] [1.09033847] 0 0\n",
      "[-0.01254409] [0.98753426] 0 0\n",
      "[-0.21060859] [0.81009108] 0 0\n",
      "[-0.21060859] [0.81009108] 0 0\n",
      "[-0.30964085] [0.73371042] 0 0\n",
      "[-0.30964085] [0.73371042] 0 0\n",
      "[0.38358493] [1.46753618] 1 0\n",
      "[0.8787462] [2.40787881] 1 1\n",
      "[2.06713324] [7.9021371] 1 1\n",
      "[1.07681071] [2.93530306] 0 1\n",
      "[0.68068169] [1.97522376] 1 1\n",
      "[-0.70576986] [0.49372833] 0 0\n",
      "[0.77971394] [2.18084833] 0 1\n",
      "[0.8787462] [2.40787881] 1 1\n",
      "[-1.20093113] [0.30091389] 0 0\n",
      "[2.1661655] [8.72476467] 1 1\n",
      "[-0.01254409] [0.98753426] 0 0\n",
      "[0.18552042] [1.20384478] 1 0\n",
      "[0.38358493] [1.46753618] 0 0\n",
      "[-0.30964085] [0.73371042] 0 0\n",
      "[0.97777845] [2.65854359] 1 1\n",
      "[0.97777845] [2.65854359] 1 1\n",
      "[-0.01254409] [0.98753426] 1 0\n",
      "[-0.90383437] [0.40501371] 1 0\n",
      "[-1.20093113] [0.30091389] 0 0\n",
      "[2.1661655] [8.72476467] 1 1\n",
      "[-1.39899564] [0.24684476] 0 0\n",
      "[0.38358493] [1.46753618] 1 0\n",
      "[0.77971394] [2.18084833] 0 1\n",
      "[-1.00286662] [0.36682638] 0 0\n",
      "[0.08648817] [1.09033847] 1 0\n",
      "[-1.00286662] [0.36682638] 0 0\n",
      "[0.28455268] [1.32916733] 0 0\n",
      "[0.68068169] [1.97522376] 1 1\n",
      "[-0.50770535] [0.60187509] 0 0\n",
      "[-1.79512465] [0.16610675] 0 0\n",
      "[-0.70576986] [0.49372833] 0 0\n",
      "[0.38358493] [1.46753618] 0 0\n",
      "[-0.30964085] [0.73371042] 0 0\n",
      "[-0.50770535] [0.60187509] 1 0\n",
      "[0.18552042] [1.20384478] 1 0\n",
      "[1.27487521] [3.57825486] 1 1\n",
      "[0.77971394] [2.18084833] 1 1\n",
      "[-0.30964085] [0.73371042] 0 0\n",
      "[-0.01254409] [0.98753426] 0 0\n",
      "[-0.21060859] [0.81009108] 0 0\n",
      "[-0.11157634] [0.89442311] 1 0\n",
      "[-0.01254409] [0.98753426] 0 0\n",
      "[2.1661655] [8.72476467] 1 1\n",
      "[-1.79512465] [0.16610675] 0 0\n",
      "[1.86906873] [6.48225689] 1 1\n",
      "[0.38358493] [1.46753618] 0 0\n",
      "[-1.20093113] [0.30091389] 0 0\n",
      "[0.77971394] [2.18084833] 1 1\n",
      "[-0.30964085] [0.73371042] 0 0\n",
      "[-1.6960924] [0.18339878] 0 0\n",
      "[-1.00286662] [0.36682638] 0 0\n",
      "[0.28455268] [1.32916733] 1 0\n",
      "[-0.11157634] [0.89442311] 0 0\n",
      "[-1.10189888] [0.3322396] 0 0\n",
      "[0.08648817] [1.09033847] 0 0\n",
      "[-1.00286662] [0.36682638] 1 0\n",
      "[-0.70576986] [0.49372833] 1 0\n",
      "[-1.29996338] [0.27254177] 0 0\n",
      "[-0.30964085] [0.73371042] 0 0\n",
      "[-0.11157634] [0.89442311] 1 0\n",
      "[-0.30964085] [0.73371042] 0 0\n",
      "[0.8787462] [2.40787881] 1 1\n",
      "[-0.30964085] [0.73371042] 1 0\n",
      "[0.97777845] [2.65854359] 1 1\n",
      "[-1.20093113] [0.30091389] 0 0\n",
      "[-1.29996338] [0.27254177] 0 0\n",
      "[1.37390747] [3.95075803] 1 1\n",
      "[1.27487521] [3.57825486] 1 1\n",
      "[-0.30964085] [0.73371042] 0 0\n",
      "[-0.50770535] [0.60187509] 0 0\n",
      "[-0.80480212] [0.44717641] 1 0\n",
      "[0.97777845] [2.65854359] 1 1\n",
      "[0.28455268] [1.32916733] 0 0\n",
      "[0.97777845] [2.65854359] 1 1\n",
      "[-0.70576986] [0.49372833] 0 0\n",
      "[-0.70576986] [0.49372833] 0 0\n",
      "[0.48261718] [1.6203095] 1 1\n",
      "[2.06713324] [7.9021371] 1 1\n",
      "[-1.99318916] [0.13626018] 0 0\n",
      "[-0.21060859] [0.81009108] 1 0\n",
      "[0.38358493] [1.46753618] 1 0\n",
      "[0.8787462] [2.40787881] 1 1\n",
      "[-1.20093113] [0.30091389] 0 0\n",
      "[0.18552042] [1.20384478] 0 0\n",
      "[0.77971394] [2.18084833] 0 1\n",
      "[2.06713324] [7.9021371] 0 1\n",
      "[0.77971394] [2.18084833] 0 1\n",
      "[-0.30964085] [0.73371042] 1 0\n",
      "[-1.00286662] [0.36682638] 0 0\n",
      "[0.18552042] [1.20384478] 0 0\n",
      "[2.06713324] [7.9021371] 1 1\n",
      "[1.86906873] [6.48225689] 1 1\n",
      "[1.37390747] [3.95075803] 1 1\n",
      "[0.8787462] [2.40787881] 1 1\n",
      "[1.47293972] [4.36203949] 1 1\n",
      "[-0.30964085] [0.73371042] 0 0\n",
      "[1.96810099] [7.15707221] 1 1\n",
      "[0.68068169] [1.97522376] 1 1\n",
      "[-1.49802789] [0.22357063] 0 0\n",
      "[0.77971394] [2.18084833] 1 1\n",
      "[0.38358493] [1.46753618] 0 0\n",
      "[-1.00286662] [0.36682638] 0 0\n",
      "[-0.01254409] [0.98753426] 0 0\n",
      "[-1.20093113] [0.30091389] 0 0\n",
      "[-0.90383437] [0.40501371] 0 0\n",
      "[-0.11157634] [0.89442311] 0 0\n",
      "[-1.59706014] [0.20249094] 0 0\n",
      "[0.97777845] [2.65854359] 1 1\n",
      "[1.07681071] [2.93530306] 1 1\n",
      "[-0.01254409] [0.98753426] 0 0\n",
      "[-1.10189888] [0.3322396] 0 0\n",
      "[0.77971394] [2.18084833] 1 1\n",
      "[0.97777845] [2.65854359] 0 1\n",
      "[-1.20093113] [0.30091389] 0 0\n",
      "[-0.30964085] [0.73371042] 1 0\n",
      "[0.08648817] [1.09033847] 0 0\n",
      "[-1.39899564] [0.24684476] 0 0\n",
      "[-0.60673761] [0.54512639] 0 0\n",
      "[0.77971394] [2.18084833] 1 1\n",
      "[-0.30964085] [0.73371042] 0 0\n",
      "[1.77003648] [5.87106754] 1 1\n",
      "[0.8787462] [2.40787881] 1 1\n",
      "[0.18552042] [1.20384478] 0 0\n",
      "[-0.60673761] [0.54512639] 1 0\n",
      "[-1.89415691] [0.15044512] 0 0\n",
      "[-1.29996338] [0.27254177] 0 0\n",
      "[-0.30964085] [0.73371042] 0 0\n",
      "[-1.00286662] [0.36682638] 0 0\n",
      "[1.17584296] [3.24087372] 1 1\n",
      "[0.18552042] [1.20384478] 0 0\n",
      "[1.17584296] [3.24087372] 0 1\n",
      "[-0.30964085] [0.73371042] 0 0\n",
      "[0.18552042] [1.20384478] 1 0\n",
      "[0.77971394] [2.18084833] 1 1\n",
      "[0.08648817] [1.09033847] 0 0\n",
      "[-1.79512465] [0.16610675] 0 0\n",
      "[-0.90383437] [0.40501371] 0 0\n",
      "[-0.70576986] [0.49372833] 0 0\n",
      "[0.8787462] [2.40787881] 1 1\n",
      "[0.18552042] [1.20384478] 0 0\n",
      "[-0.4086731] [0.66453143] 1 0\n",
      "[-0.01254409] [0.98753426] 0 0\n",
      "[0.38358493] [1.46753618] 0 0\n",
      "[0.8787462] [2.40787881] 0 1\n",
      "[0.08648817] [1.09033847] 1 0\n",
      "[-1.89415691] [0.15044512] 0 0\n",
      "[-0.11157634] [0.89442311] 0 0\n",
      "[-0.21060859] [0.81009108] 0 0\n",
      "[0.28455268] [1.32916733] 0 0\n",
      "[-0.21060859] [0.81009108] 1 0\n",
      "[0.97777845] [2.65854359] 1 1\n",
      "[-0.21060859] [0.81009108] 1 0\n",
      "[1.27487521] [3.57825486] 0 1\n",
      "[-1.10189888] [0.3322396] 0 0\n",
      "[-0.01254409] [0.98753426] 0 0\n",
      "[0.08648817] [1.09033847] 0 0\n",
      "[-1.59706014] [0.20249094] 0 0\n",
      "[-0.50770535] [0.60187509] 0 0\n",
      "[0.97777845] [2.65854359] 1 1\n",
      "[1.96810099] [7.15707221] 1 1\n",
      "[1.47293972] [4.36203949] 1 1\n",
      "[-0.60673761] [0.54512639] 1 0\n",
      "[1.57197197] [4.81613613] 1 1\n",
      "[-0.80480212] [0.44717641] 0 0\n",
      "[1.96810099] [7.15707221] 1 1\n",
      "[-1.20093113] [0.30091389] 0 0\n",
      "[0.68068169] [1.97522376] 0 1\n",
      "[-1.39899564] [0.24684476] 0 0\n",
      "[0.18552042] [1.20384478] 0 0\n",
      "[-0.50770535] [0.60187509] 0 0\n",
      "[0.58164944] [1.78898682] 1 1\n",
      "[-1.59706014] [0.20249094] 0 0\n",
      "[-0.50770535] [0.60187509] 0 0\n",
      "[0.48261718] [1.6203095] 0 1\n",
      "[-1.39899564] [0.24684476] 0 0\n",
      "[0.77971394] [2.18084833] 0 1\n",
      "[-0.30964085] [0.73371042] 0 0\n",
      "[1.57197197] [4.81613613] 1 1\n",
      "[0.97777845] [2.65854359] 1 1\n",
      "[-0.30964085] [0.73371042] 0 0\n",
      "[-0.11157634] [0.89442311] 1 0\n",
      "[-1.49802789] [0.22357063] 0 0\n",
      "[-0.11157634] [0.89442311] 1 0\n",
      "[-0.70576986] [0.49372833] 0 0\n",
      "[-0.50770535] [0.60187509] 0 0\n",
      "[0.68068169] [1.97522376] 1 1\n",
      "[-0.80480212] [0.44717641] 0 0\n",
      "[-1.89415691] [0.15044512] 0 0\n",
      "[1.07681071] [2.93530306] 0 1\n",
      "[0.08648817] [1.09033847] 1 0\n",
      "[-0.30964085] [0.73371042] 0 0\n",
      "[0.08648817] [1.09033847] 0 0\n",
      "[-1.39899564] [0.24684476] 0 0\n",
      "[0.28455268] [1.32916733] 0 0\n",
      "[-0.90383437] [0.40501371] 0 0\n",
      "[1.57197197] [4.81613613] 1 1\n",
      "[-0.30964085] [0.73371042] 0 0\n",
      "[-0.11157634] [0.89442311] 0 0\n",
      "[-0.90383437] [0.40501371] 0 0\n",
      "[-0.70576986] [0.49372833] 0 0\n",
      "[0.38358493] [1.46753618] 0 0\n",
      "[-0.80480212] [0.44717641] 1 0\n",
      "[1.37390747] [3.95075803] 0 1\n",
      "[1.17584296] [3.24087372] 1 1\n",
      "[1.77003648] [5.87106754] 1 1\n",
      "[-0.90383437] [0.40501371] 0 0\n",
      "[-0.80480212] [0.44717641] 0 0\n",
      "[-1.20093113] [0.30091389] 0 0\n",
      "[-0.50770535] [0.60187509] 0 0\n",
      "[0.28455268] [1.32916733] 0 0\n",
      "[-0.21060859] [0.81009108] 0 0\n",
      "[1.67100423] [5.3175051] 1 1\n",
      "[0.97777845] [2.65854359] 1 1\n",
      "[0.28455268] [1.32916733] 0 0\n",
      "[-0.80480212] [0.44717641] 0 0\n",
      "[-0.11157634] [0.89442311] 0 0\n",
      "[0.28455268] [1.32916733] 0 0\n",
      "[1.96810099] [7.15707221] 1 1\n",
      "[-0.80480212] [0.44717641] 0 0\n",
      "[-1.79512465] [0.16610675] 0 0\n",
      "[-0.11157634] [0.89442311] 0 0\n",
      "[0.28455268] [1.32916733] 0 0\n",
      "[1.07681071] [2.93530306] 1 1\n",
      "[-1.00286662] [0.36682638] 0 0\n",
      "[1.47293972] [4.36203949] 1 1\n",
      "[0.18552042] [1.20384478] 0 0\n",
      "[2.1661655] [8.72476467] 1 1\n",
      "[-0.30964085] [0.73371042] 0 0\n",
      "[-1.6960924] [0.18339878] 0 0\n",
      "[-0.01254409] [0.98753426] 0 0\n",
      "[0.08648817] [1.09033847] 1 0\n",
      "[-0.11157634] [0.89442311] 0 0\n",
      "[-1.20093113] [0.30091389] 0 0\n",
      "[-0.30964085] [0.73371042] 0 0\n",
      "[1.57197197] [4.81613613] 1 1\n",
      "[-0.80480212] [0.44717641] 0 0\n",
      "[0.08648817] [1.09033847] 1 0\n",
      "[-0.90383437] [0.40501371] 0 0\n",
      "[-0.50770535] [0.60187509] 0 0\n",
      "[-0.30964085] [0.73371042] 0 0\n",
      "[0.28455268] [1.32916733] 0 0\n",
      "[0.28455268] [1.32916733] 0 0\n",
      "[0.08648817] [1.09033847] 1 0\n",
      "[-1.10189888] [0.3322396] 1 0\n",
      "[-1.6960924] [0.18339878] 0 0\n",
      "[-1.20093113] [0.30091389] 0 0\n",
      "[-0.70576986] [0.49372833] 0 0\n",
      "[0.08648817] [1.09033847] 0 0\n",
      "[0.28455268] [1.32916733] 0 0\n",
      "[0.8787462] [2.40787881] 1 1\n",
      "[0.28455268] [1.32916733] 0 0\n",
      "[-0.11157634] [0.89442311] 1 0\n",
      "[2.1661655] [8.72476467] 1 1\n",
      "[-1.29996338] [0.27254177] 0 0\n",
      "[-1.00286662] [0.36682638] 0 0\n",
      "[-0.01254409] [0.98753426] 0 0\n",
      "[-0.21060859] [0.81009108] 0 0\n",
      "[-1.79512465] [0.16610675] 0 0\n",
      "[1.77003648] [5.87106754] 1 1\n",
      "[0.18552042] [1.20384478] 0 0\n",
      "[0.38358493] [1.46753618] 1 0\n",
      "[-1.79512465] [0.16610675] 0 0\n",
      "[0.18552042] [1.20384478] 0 0\n",
      "[0.8787462] [2.40787881] 1 1\n",
      "[-1.99318916] [0.13626018] 0 0\n",
      "[-0.30964085] [0.73371042] 0 0\n",
      "[1.86906873] [6.48225689] 1 1\n",
      "[-0.4086731] [0.66453143] 0 0\n",
      "[1.07681071] [2.93530306] 1 1\n",
      "[-1.10189888] [0.3322396] 0 0\n",
      "[-1.89415691] [0.15044512] 0 0\n",
      "[0.08648817] [1.09033847] 0 0\n",
      "[-1.20093113] [0.30091389] 0 0\n",
      "[-1.29996338] [0.27254177] 0 0\n",
      "[-1.00286662] [0.36682638] 0 0\n",
      "[1.67100423] [5.3175051] 1 1\n",
      "[1.17584296] [3.24087372] 1 1\n",
      "[1.07681071] [2.93530306] 1 1\n",
      "[1.37390747] [3.95075803] 1 1\n",
      "[-0.30964085] [0.73371042] 0 0\n",
      "[0.38358493] [1.46753618] 0 0\n",
      "[-0.4086731] [0.66453143] 0 0\n",
      "[-0.11157634] [0.89442311] 0 0\n",
      "[0.97777845] [2.65854359] 1 1\n",
      "[-0.90383437] [0.40501371] 0 0\n",
      "[-0.21060859] [0.81009108] 0 0\n",
      "[-1.10189888] [0.3322396] 0 0\n",
      "[-1.20093113] [0.30091389] 0 0\n"
     ]
    }
   ],
   "source": [
    "i = 0\n",
    "print(len(y_pred), len(x_train), len(y_train))\n",
    "while i < len(y_pred):\n",
    "    print(x_train[i], np.exp(x_train[i]), y_train.iloc[i], y_pred[i])\n",
    "    i += 1"
   ]
  },
  {
   "cell_type": "code",
   "execution_count": 54,
   "metadata": {},
   "outputs": [
    {
     "data": {
      "text/plain": [
       "numpy.ndarray"
      ]
     },
     "execution_count": 54,
     "metadata": {},
     "output_type": "execute_result"
    }
   ],
   "source": [
    "type(x_train)"
   ]
  },
  {
   "cell_type": "markdown",
   "metadata": {},
   "source": [
    "### Confusion Matrix"
   ]
  },
  {
   "cell_type": "code",
   "execution_count": 22,
   "metadata": {},
   "outputs": [],
   "source": [
    "from sklearn.metrics import confusion_matrix"
   ]
  },
  {
   "cell_type": "code",
   "execution_count": 23,
   "metadata": {},
   "outputs": [],
   "source": [
    "cm = confusion_matrix(y_test, y_pred)"
   ]
  },
  {
   "cell_type": "code",
   "execution_count": 24,
   "metadata": {},
   "outputs": [
    {
     "data": {
      "text/plain": [
       "array([[66,  2],\n",
       "       [ 8, 24]], dtype=int64)"
      ]
     },
     "execution_count": 24,
     "metadata": {},
     "output_type": "execute_result"
    }
   ],
   "source": [
    "cm"
   ]
  },
  {
   "cell_type": "markdown",
   "metadata": {},
   "source": [
    "### Visualization"
   ]
  },
  {
   "cell_type": "code",
   "execution_count": 25,
   "metadata": {},
   "outputs": [],
   "source": [
    "import matplotlib.pyplot as plt"
   ]
  },
  {
   "cell_type": "code",
   "execution_count": 26,
   "metadata": {},
   "outputs": [
    {
     "data": {
      "text/plain": [
       "(300, 1)"
      ]
     },
     "execution_count": 26,
     "metadata": {},
     "output_type": "execute_result"
    }
   ],
   "source": [
    "x_train.shape"
   ]
  },
  {
   "cell_type": "code",
   "execution_count": 27,
   "metadata": {},
   "outputs": [
    {
     "data": {
      "text/plain": [
       "(300,)"
      ]
     },
     "execution_count": 27,
     "metadata": {},
     "output_type": "execute_result"
    }
   ],
   "source": [
    "y_train.shape"
   ]
  },
  {
   "cell_type": "code",
   "execution_count": 28,
   "metadata": {},
   "outputs": [
    {
     "data": {
      "text/plain": [
       "<matplotlib.collections.PathCollection at 0x2b92c953d30>"
      ]
     },
     "execution_count": 28,
     "metadata": {},
     "output_type": "execute_result"
    },
    {
     "data": {
      "image/png": "[encoded data removed]",
      "text/plain": [
       "<Figure size 432x288 with 1 Axes>"
      ]
     },
     "metadata": {},
     "output_type": "display_data"
    }
   ],
   "source": [
    "plt.scatter(x_train, y_train)"
   ]
  },
  {
   "cell_type": "code",
   "execution_count": 32,
   "metadata": {},
   "outputs": [],
   "source": [
    "in_data = df.iloc[0].drop(\"Purchased\")"
   ]
  },
  {
   "cell_type": "code",
   "execution_count": 60,
   "metadata": {},
   "outputs": [
    {
     "data": {
      "text/plain": [
       "array([1], dtype=int64)"
      ]
     },
     "execution_count": 60,
     "metadata": {},
     "output_type": "execute_result"
    }
   ],
   "source": [
    "classifier.predict(np.log(2))"
   ]
  },
  {
   "cell_type": "code",
   "execution_count": 36,
   "metadata": {},
   "outputs": [
    {
     "data": {
      "text/plain": [
       "(300, 1)"
      ]
     },
     "execution_count": 36,
     "metadata": {},
     "output_type": "execute_result"
    }
   ],
   "source": [
    "x_train.shape"
   ]
  },
  {
   "cell_type": "code",
   "execution_count": 61,
   "metadata": {},
   "outputs": [
    {
     "data": {
      "text/plain": [
       "0.0"
      ]
     },
     "execution_count": 61,
     "metadata": {},
     "output_type": "execute_result"
    }
   ],
   "source": [
    "np.log(1)"
   ]
  },
  {
   "cell_type": "code",
   "execution_count": 62,
   "metadata": {},
   "outputs": [
    {
     "data": {
      "text/plain": [
       "1.0"
      ]
     },
     "execution_count": 62,
     "metadata": {},
     "output_type": "execute_result"
    }
   ],
   "source": [
    "np.exp(0)"
   ]
  },
  {
   "cell_type": "code",
   "execution_count": 63,
   "metadata": {},
   "outputs": [
    {
     "data": {
      "text/plain": [
       "5.298317366548036"
      ]
     },
     "execution_count": 63,
     "metadata": {},
     "output_type": "execute_result"
    }
   ],
   "source": [
    "np.log(200)"
   ]
  },
  {
   "cell_type": "code",
   "execution_count": 64,
   "metadata": {},
   "outputs": [
    {
     "data": {
      "text/plain": [
       "199.99999999999991"
      ]
     },
     "execution_count": 64,
     "metadata": {},
     "output_type": "execute_result"
    }
   ],
   "source": [
    "np.exp(5.298317366548036)"
   ]
  },
  {
   "cell_type": "code",
   "execution_count": 73,
   "metadata": {},
   "outputs": [
    {
     "data": {
      "text/plain": [
       "array([[ 0.07139409],\n",
       "       [-0.83476171],\n",
       "       [-0.31303564],\n",
       "       [-0.80730245],\n",
       "       [ 1.88370571]])"
      ]
     },
     "execution_count": 73,
     "metadata": {},
     "output_type": "execute_result"
    }
   ],
   "source": [
    "fs_x.fit_transform([[34], [1], [20], [2], [100]])"
   ]
  },
  {
   "cell_type": "code",
   "execution_count": null,
   "metadata": {},
   "outputs": [],
   "source": []
  }
 ],
 "metadata": {
  "kernelspec": {
   "display_name": "Python 3",
   "language": "python",
   "name": "python3"
  },
  "language_info": {
   "codemirror_mode": {
    "name": "ipython",
    "version": 3
   },
   "file_extension": ".py",
   "mimetype": "text/x-python",
   "name": "python",
   "nbconvert_exporter": "python",
   "pygments_lexer": "ipython3",
   "version": "3.6.5"
  }
 },
 "nbformat": 4,
 "nbformat_minor": 2
}
